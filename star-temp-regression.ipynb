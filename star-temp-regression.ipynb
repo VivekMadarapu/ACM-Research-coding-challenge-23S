{
 "metadata": {
  "kernelspec": {
   "language": "python",
   "display_name": "Python 3",
   "name": "python3"
  },
  "language_info": {
   "name": "python",
   "version": "3.7.12",
   "mimetype": "text/x-python",
   "codemirror_mode": {
    "name": "ipython",
    "version": 3
   },
   "pygments_lexer": "ipython3",
   "nbconvert_exporter": "python",
   "file_extension": ".py"
  }
 },
 "nbformat_minor": 4,
 "nbformat": 4,
 "cells": [
  {
   "cell_type": "code",
   "source": [
    "import numpy as np # linear algebra\n",
    "import pandas as pd # data processing, CSV file I/O (e.g. pd.read_csv)\n",
    "\n",
    "path = 'stardata.csv'\n",
    "df = pd.read_csv(path)"
   ],
   "metadata": {
    "_uuid": "8f2839f25d086af736a60e9eeb907d3b93b6e0e5",
    "_cell_guid": "b1076dfc-b9ad-4769-8c92-a6c4dae69d19",
    "execution": {
     "iopub.status.busy": "2023-01-22T19:08:25.225310Z",
     "iopub.execute_input": "2023-01-22T19:08:25.226374Z",
     "iopub.status.idle": "2023-01-22T19:08:25.267479Z",
     "shell.execute_reply.started": "2023-01-22T19:08:25.226269Z",
     "shell.execute_reply": "2023-01-22T19:08:25.266782Z"
    },
    "trusted": true
   },
   "execution_count": 1,
   "outputs": []
  },
  {
   "cell_type": "code",
   "source": [
    "print(df)"
   ],
   "metadata": {
    "execution": {
     "iopub.status.busy": "2023-01-22T19:08:29.205283Z",
     "iopub.execute_input": "2023-01-22T19:08:29.205727Z",
     "iopub.status.idle": "2023-01-22T19:08:29.221440Z",
     "shell.execute_reply.started": "2023-01-22T19:08:29.205690Z",
     "shell.execute_reply": "2023-01-22T19:08:29.220803Z"
    },
    "trusted": true
   },
   "execution_count": 2,
   "outputs": [
    {
     "name": "stdout",
     "output_type": "stream",
     "text": [
      "     Temperature (K)  Luminosity(L/Lo)  Radius(R/Ro)  Absolute magnitude(Mv)  \\\n",
      "0               3068          0.002400        0.1700                   16.12   \n",
      "1               3042          0.000500        0.1542                   16.60   \n",
      "2               2600          0.000300        0.1020                   18.70   \n",
      "3               2800          0.000200        0.1600                   16.65   \n",
      "4               1939          0.000138        0.1030                   20.06   \n",
      "..               ...               ...           ...                     ...   \n",
      "235            38940     374830.000000     1356.0000                   -9.93   \n",
      "236            30839     834042.000000     1194.0000                  -10.63   \n",
      "237             8829     537493.000000     1423.0000                  -10.73   \n",
      "238             9235     404940.000000     1112.0000                  -11.23   \n",
      "239            37882     294903.000000     1783.0000                   -7.80   \n",
      "\n",
      "     Star type Star color Spectral Class  \n",
      "0            0        Red              M  \n",
      "1            0        Red              M  \n",
      "2            0        Red              M  \n",
      "3            0        Red              M  \n",
      "4            0        Red              M  \n",
      "..         ...        ...            ...  \n",
      "235          5       Blue              O  \n",
      "236          5       Blue              O  \n",
      "237          5      White              A  \n",
      "238          5      White              A  \n",
      "239          5       Blue              O  \n",
      "\n",
      "[240 rows x 7 columns]\n"
     ]
    }
   ]
  },
  {
   "cell_type": "code",
   "source": [
    "from sklearn.preprocessing import LabelEncoder\n",
    "le = LabelEncoder()\n",
    "df['Star color'] = le.fit_transform(df['Star color'])\n",
    "df['Spectral Class'] = le.fit_transform(df['Spectral Class'])"
   ],
   "metadata": {
    "execution": {
     "iopub.status.busy": "2023-01-22T19:08:32.171871Z",
     "iopub.execute_input": "2023-01-22T19:08:32.172209Z",
     "iopub.status.idle": "2023-01-22T19:08:32.542347Z",
     "shell.execute_reply.started": "2023-01-22T19:08:32.172182Z",
     "shell.execute_reply": "2023-01-22T19:08:32.541488Z"
    },
    "trusted": true
   },
   "execution_count": 3,
   "outputs": []
  },
  {
   "cell_type": "code",
   "source": [
    "print(df)"
   ],
   "metadata": {
    "execution": {
     "iopub.status.busy": "2023-01-22T19:08:35.733485Z",
     "iopub.execute_input": "2023-01-22T19:08:35.733903Z",
     "iopub.status.idle": "2023-01-22T19:08:35.745534Z",
     "shell.execute_reply.started": "2023-01-22T19:08:35.733871Z",
     "shell.execute_reply": "2023-01-22T19:08:35.744736Z"
    },
    "trusted": true
   },
   "execution_count": 4,
   "outputs": [
    {
     "name": "stdout",
     "output_type": "stream",
     "text": [
      "     Temperature (K)  Luminosity(L/Lo)  Radius(R/Ro)  Absolute magnitude(Mv)  \\\n",
      "0               3068          0.002400        0.1700                   16.12   \n",
      "1               3042          0.000500        0.1542                   16.60   \n",
      "2               2600          0.000300        0.1020                   18.70   \n",
      "3               2800          0.000200        0.1600                   16.65   \n",
      "4               1939          0.000138        0.1030                   20.06   \n",
      "..               ...               ...           ...                     ...   \n",
      "235            38940     374830.000000     1356.0000                   -9.93   \n",
      "236            30839     834042.000000     1194.0000                  -10.63   \n",
      "237             8829     537493.000000     1423.0000                  -10.73   \n",
      "238             9235     404940.000000     1112.0000                  -11.23   \n",
      "239            37882     294903.000000     1783.0000                   -7.80   \n",
      "\n",
      "     Star type  Star color  Spectral Class  \n",
      "0            0          10               5  \n",
      "1            0          10               5  \n",
      "2            0          10               5  \n",
      "3            0          10               5  \n",
      "4            0          10               5  \n",
      "..         ...         ...             ...  \n",
      "235          5           0               6  \n",
      "236          5           0               6  \n",
      "237          5          11               0  \n",
      "238          5          11               0  \n",
      "239          5           0               6  \n",
      "\n",
      "[240 rows x 7 columns]\n"
     ]
    }
   ]
  },
  {
   "cell_type": "code",
   "source": [
    "from sklearn.model_selection import train_test_split\n",
    "x_train, x_test, y_train, y_test = train_test_split(df.drop('Temperature (K)', axis=1), df['Temperature (K)'],\n",
    "                      test_size = 0.3)"
   ],
   "metadata": {
    "execution": {
     "iopub.status.busy": "2023-01-22T19:08:45.692934Z",
     "iopub.execute_input": "2023-01-22T19:08:45.693260Z",
     "iopub.status.idle": "2023-01-22T19:08:45.741530Z",
     "shell.execute_reply.started": "2023-01-22T19:08:45.693231Z",
     "shell.execute_reply": "2023-01-22T19:08:45.740691Z"
    },
    "trusted": true
   },
   "execution_count": 5,
   "outputs": []
  },
  {
   "cell_type": "code",
   "source": [
    "from xgboost import XGBRegressor\n",
    "model = XGBRegressor(objective ='reg:squaredlogerror',\n",
    "                  n_estimators = 10, seed = 123)\n",
    "model.fit(x_train, y_train)\n",
    "model.save_model('model2.json')"
   ],
   "metadata": {
    "execution": {
     "iopub.status.busy": "2023-01-22T19:08:49.677710Z",
     "iopub.execute_input": "2023-01-22T19:08:49.678052Z",
     "iopub.status.idle": "2023-01-22T19:08:49.800131Z",
     "shell.execute_reply.started": "2023-01-22T19:08:49.678025Z",
     "shell.execute_reply": "2023-01-22T19:08:49.799387Z"
    },
    "trusted": true
   },
   "execution_count": 6,
   "outputs": []
  },
  {
   "cell_type": "code",
   "source": [
    "from sklearn.metrics import mean_squared_log_error\n",
    "\n",
    "pred = model.predict(x_test)\n",
    "print(\"MSE : % f\" %(mean_squared_log_error(y_test, pred)))"
   ],
   "metadata": {
    "execution": {
     "iopub.status.busy": "2023-01-22T19:08:51.351846Z",
     "iopub.execute_input": "2023-01-22T19:08:51.352203Z",
     "iopub.status.idle": "2023-01-22T19:08:51.362012Z",
     "shell.execute_reply.started": "2023-01-22T19:08:51.352172Z",
     "shell.execute_reply": "2023-01-22T19:08:51.361230Z"
    },
    "trusted": true
   },
   "execution_count": 7,
   "outputs": [
    {
     "name": "stdout",
     "output_type": "stream",
     "text": [
      "MSE :  40.327102\n"
     ]
    }
   ]
  }
 ]
}
