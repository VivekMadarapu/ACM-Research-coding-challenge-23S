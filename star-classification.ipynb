{
 "metadata": {
  "kernelspec": {
   "language": "python",
   "display_name": "Python 3",
   "name": "python3"
  },
  "language_info": {
   "name": "python",
   "version": "3.7.12",
   "mimetype": "text/x-python",
   "codemirror_mode": {
    "name": "ipython",
    "version": 3
   },
   "pygments_lexer": "ipython3",
   "nbconvert_exporter": "python",
   "file_extension": ".py"
  }
 },
 "nbformat_minor": 4,
 "nbformat": 4,
 "cells": [
  {
   "cell_type": "code",
   "source": [
    "import numpy as np\n",
    "import pandas as pd\n",
    "\n",
    "df = pd.read_csv('/kaggle/input/star-dataset/6 class csv.csv')\n",
    "\n",
    "#Category type conversion\n",
    "df['Spectral Class'] = df['Spectral Class'].astype('category')\n",
    "df['Star color'] = df['Star color'].astype('category')\n",
    "df['Star type'] = df['Star type'].astype('category')"
   ],
   "metadata": {
    "_uuid": "8f2839f25d086af736a60e9eeb907d3b93b6e0e5",
    "_cell_guid": "b1076dfc-b9ad-4769-8c92-a6c4dae69d19",
    "execution": {
     "iopub.status.busy": "2023-01-24T02:49:39.769815Z",
     "iopub.execute_input": "2023-01-24T02:49:39.770440Z",
     "iopub.status.idle": "2023-01-24T02:49:39.788927Z",
     "shell.execute_reply.started": "2023-01-24T02:49:39.770403Z",
     "shell.execute_reply": "2023-01-24T02:49:39.788009Z"
    },
    "trusted": true
   },
   "execution_count": 106,
   "outputs": []
  },
  {
   "cell_type": "code",
   "source": [
    "df.info()"
   ],
   "metadata": {
    "execution": {
     "iopub.status.busy": "2023-01-24T02:49:39.790919Z",
     "iopub.execute_input": "2023-01-24T02:49:39.791279Z",
     "iopub.status.idle": "2023-01-24T02:49:39.807343Z",
     "shell.execute_reply.started": "2023-01-24T02:49:39.791243Z",
     "shell.execute_reply": "2023-01-24T02:49:39.806390Z"
    },
    "trusted": true
   },
   "execution_count": 107,
   "outputs": [
    {
     "name": "stdout",
     "text": "<class 'pandas.core.frame.DataFrame'>\nRangeIndex: 240 entries, 0 to 239\nData columns (total 7 columns):\n #   Column                  Non-Null Count  Dtype   \n---  ------                  --------------  -----   \n 0   Temperature (K)         240 non-null    int64   \n 1   Luminosity(L/Lo)        240 non-null    float64 \n 2   Radius(R/Ro)            240 non-null    float64 \n 3   Absolute magnitude(Mv)  240 non-null    float64 \n 4   Star type               240 non-null    category\n 5   Star color              240 non-null    category\n 6   Spectral Class          240 non-null    category\ndtypes: category(3), float64(3), int64(1)\nmemory usage: 9.6 KB\n",
     "output_type": "stream"
    }
   ]
  },
  {
   "cell_type": "code",
   "source": [
    "df.describe()"
   ],
   "metadata": {
    "execution": {
     "iopub.status.busy": "2023-01-24T02:49:39.808571Z",
     "iopub.execute_input": "2023-01-24T02:49:39.809574Z",
     "iopub.status.idle": "2023-01-24T02:49:39.833015Z",
     "shell.execute_reply.started": "2023-01-24T02:49:39.809512Z",
     "shell.execute_reply": "2023-01-24T02:49:39.831947Z"
    },
    "trusted": true
   },
   "execution_count": 108,
   "outputs": [
    {
     "execution_count": 108,
     "output_type": "execute_result",
     "data": {
      "text/plain": "       Temperature (K)  Luminosity(L/Lo)  Radius(R/Ro)  Absolute magnitude(Mv)\ncount       240.000000        240.000000    240.000000              240.000000\nmean      10497.462500     107188.361635    237.157781                4.382396\nstd        9552.425037     179432.244940    517.155763               10.532512\nmin        1939.000000          0.000080      0.008400              -11.920000\n25%        3344.250000          0.000865      0.102750               -6.232500\n50%        5776.000000          0.070500      0.762500                8.313000\n75%       15055.500000     198050.000000     42.750000               13.697500\nmax       40000.000000     849420.000000   1948.500000               20.060000",
      "text/html": "<div>\n<style scoped>\n    .dataframe tbody tr th:only-of-type {\n        vertical-align: middle;\n    }\n\n    .dataframe tbody tr th {\n        vertical-align: top;\n    }\n\n    .dataframe thead th {\n        text-align: right;\n    }\n</style>\n<table border=\"1\" class=\"dataframe\">\n  <thead>\n    <tr style=\"text-align: right;\">\n      <th></th>\n      <th>Temperature (K)</th>\n      <th>Luminosity(L/Lo)</th>\n      <th>Radius(R/Ro)</th>\n      <th>Absolute magnitude(Mv)</th>\n    </tr>\n  </thead>\n  <tbody>\n    <tr>\n      <th>count</th>\n      <td>240.000000</td>\n      <td>240.000000</td>\n      <td>240.000000</td>\n      <td>240.000000</td>\n    </tr>\n    <tr>\n      <th>mean</th>\n      <td>10497.462500</td>\n      <td>107188.361635</td>\n      <td>237.157781</td>\n      <td>4.382396</td>\n    </tr>\n    <tr>\n      <th>std</th>\n      <td>9552.425037</td>\n      <td>179432.244940</td>\n      <td>517.155763</td>\n      <td>10.532512</td>\n    </tr>\n    <tr>\n      <th>min</th>\n      <td>1939.000000</td>\n      <td>0.000080</td>\n      <td>0.008400</td>\n      <td>-11.920000</td>\n    </tr>\n    <tr>\n      <th>25%</th>\n      <td>3344.250000</td>\n      <td>0.000865</td>\n      <td>0.102750</td>\n      <td>-6.232500</td>\n    </tr>\n    <tr>\n      <th>50%</th>\n      <td>5776.000000</td>\n      <td>0.070500</td>\n      <td>0.762500</td>\n      <td>8.313000</td>\n    </tr>\n    <tr>\n      <th>75%</th>\n      <td>15055.500000</td>\n      <td>198050.000000</td>\n      <td>42.750000</td>\n      <td>13.697500</td>\n    </tr>\n    <tr>\n      <th>max</th>\n      <td>40000.000000</td>\n      <td>849420.000000</td>\n      <td>1948.500000</td>\n      <td>20.060000</td>\n    </tr>\n  </tbody>\n</table>\n</div>"
     },
     "metadata": {}
    }
   ]
  },
  {
   "cell_type": "code",
   "source": [
    "import matplotlib.pyplot as plt\n",
    "\n",
    "#Plot class frequencies\n",
    "df['Star color'].value_counts().plot(kind='bar')\n",
    "plt.show()\n",
    "\n",
    "df['Spectral Class'].value_counts().plot(kind='bar')\n",
    "plt.show()\n",
    "\n",
    "df['Star type'].value_counts().plot(kind='bar')\n",
    "plt.show()"
   ],
   "metadata": {
    "execution": {
     "iopub.status.busy": "2023-01-24T02:49:39.836007Z",
     "iopub.execute_input": "2023-01-24T02:49:39.836387Z",
     "iopub.status.idle": "2023-01-24T02:49:40.519611Z",
     "shell.execute_reply.started": "2023-01-24T02:49:39.836353Z",
     "shell.execute_reply": "2023-01-24T02:49:40.518518Z"
    },
    "trusted": true
   },
   "execution_count": 109,
   "outputs": [
    {
     "output_type": "display_data",
     "data": {
      "text/plain": "<Figure size 432x288 with 1 Axes>",
      "image/png": "[encoded data removed]"
     },
     "metadata": {
      "needs_background": "light"
     }
    },
    {
     "output_type": "display_data",
     "data": {
      "text/plain": "<Figure size 432x288 with 1 Axes>",
      "image/png": "[encoded data removed]"
     },
     "metadata": {
      "needs_background": "light"
     }
    },
    {
     "output_type": "display_data",
     "data": {
      "text/plain": "<Figure size 432x288 with 1 Axes>",
      "image/png": "[encoded data removed]"
     },
     "metadata": {
      "needs_background": "light"
     }
    }
   ]
  },
  {
   "cell_type": "code",
   "source": [
    "from xgboost import XGBClassifier\n",
    "from sklearn.model_selection import train_test_split\n",
    "\n",
    "#Change this to change prediction value\n",
    "target_value = 'Star type'\n",
    "\n",
    "feat = df.drop(target_value, axis=1)\n",
    "targ = df[target_value]\n",
    "\n",
    "X_train, X_test, Y_train, Y_test = train_test_split(feat, targ, test_size=.2)"
   ],
   "metadata": {
    "execution": {
     "iopub.status.busy": "2023-01-24T02:49:40.524505Z",
     "iopub.execute_input": "2023-01-24T02:49:40.527515Z",
     "iopub.status.idle": "2023-01-24T02:49:40.547413Z",
     "shell.execute_reply.started": "2023-01-24T02:49:40.527470Z",
     "shell.execute_reply": "2023-01-24T02:49:40.546363Z"
    },
    "trusted": true
   },
   "execution_count": 110,
   "outputs": []
  },
  {
   "cell_type": "code",
   "source": [
    "#Encode categorical column for xgboost\n",
    "from sklearn.preprocessing import LabelEncoder\n",
    "le = LabelEncoder()\n",
    "Y_train = le.fit_transform(Y_train)"
   ],
   "metadata": {
    "execution": {
     "iopub.status.busy": "2023-01-24T02:49:40.552527Z",
     "iopub.execute_input": "2023-01-24T02:49:40.555662Z",
     "iopub.status.idle": "2023-01-24T02:49:40.571872Z",
     "shell.execute_reply.started": "2023-01-24T02:49:40.555620Z",
     "shell.execute_reply": "2023-01-24T02:49:40.564593Z"
    },
    "trusted": true
   },
   "execution_count": 111,
   "outputs": []
  },
  {
   "cell_type": "code",
   "source": [
    "#Train model with gpu_hist tree model\n",
    "model = XGBClassifier(tree_method=\"gpu_hist\", enable_categorical=True)\n",
    "model.fit(X_train, Y_train)\n",
    "model.save_model('model1-{0}.json'.format(target_value))"
   ],
   "metadata": {
    "execution": {
     "iopub.status.busy": "2023-01-24T02:49:40.573601Z",
     "iopub.execute_input": "2023-01-24T02:49:40.574365Z",
     "iopub.status.idle": "2023-01-24T02:49:41.141146Z",
     "shell.execute_reply.started": "2023-01-24T02:49:40.574303Z",
     "shell.execute_reply": "2023-01-24T02:49:41.140234Z"
    },
    "trusted": true
   },
   "execution_count": 112,
   "outputs": []
  },
  {
   "cell_type": "code",
   "source": [
    "#Create prediction\n",
    "expected = Y_test\n",
    "predicted = model.predict(X_test)\n",
    "predicted = le.inverse_transform(predicted)"
   ],
   "metadata": {
    "execution": {
     "iopub.status.busy": "2023-01-24T02:49:41.142749Z",
     "iopub.execute_input": "2023-01-24T02:49:41.149521Z",
     "iopub.status.idle": "2023-01-24T02:49:41.170154Z",
     "shell.execute_reply.started": "2023-01-24T02:49:41.149488Z",
     "shell.execute_reply": "2023-01-24T02:49:41.169372Z"
    },
    "trusted": true
   },
   "execution_count": 113,
   "outputs": []
  },
  {
   "cell_type": "code",
   "source": [
    "from sklearn.metrics import classification_report, confusion_matrix, ConfusionMatrixDisplay\n",
    "\n",
    "#Prediction analysis\n",
    "print(classification_report(expected, predicted, zero_division=1))\n",
    "disp = ConfusionMatrixDisplay(confusion_matrix(expected, predicted))\n",
    "disp.plot()"
   ],
   "metadata": {
    "execution": {
     "iopub.status.busy": "2023-01-24T02:49:41.171763Z",
     "iopub.execute_input": "2023-01-24T02:49:41.172486Z",
     "iopub.status.idle": "2023-01-24T02:49:41.588315Z",
     "shell.execute_reply.started": "2023-01-24T02:49:41.172444Z",
     "shell.execute_reply": "2023-01-24T02:49:41.587279Z"
    },
    "trusted": true
   },
   "execution_count": 114,
   "outputs": [
    {
     "name": "stdout",
     "text": "              precision    recall  f1-score   support\n\n           0       1.00      1.00      1.00         7\n           1       1.00      1.00      1.00         8\n           2       1.00      1.00      1.00        10\n           3       1.00      1.00      1.00         6\n           4       1.00      1.00      1.00        13\n           5       1.00      1.00      1.00         4\n\n    accuracy                           1.00        48\n   macro avg       1.00      1.00      1.00        48\nweighted avg       1.00      1.00      1.00        48\n\n",
     "output_type": "stream"
    },
    {
     "execution_count": 114,
     "output_type": "execute_result",
     "data": {
      "text/plain": "<sklearn.metrics._plot.confusion_matrix.ConfusionMatrixDisplay at 0x7fe819fe4750>"
     },
     "metadata": {}
    },
    {
     "output_type": "display_data",
     "data": {
      "text/plain": "<Figure size 432x288 with 2 Axes>",
      "image/png": "[encoded data removed]"
     },
     "metadata": {
      "needs_background": "light"
     }
    }
   ]
  }
 ]
}
